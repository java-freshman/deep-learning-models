{
 "cells": [
  {
   "cell_type": "code",
   "execution_count": 2,
   "metadata": {},
   "outputs": [],
   "source": [
    "import os\n",
    "\n",
    "import pickle\n",
    "import random\n",
    "import matplotlib.pyplot as plt\n",
    "\n",
    "from keras.preprocessing import image"
   ]
  },
  {
   "cell_type": "markdown",
   "metadata": {},
   "source": [
    "数据载入，生成下边要使用的索引字典。"
   ]
  },
  {
   "cell_type": "markdown",
   "metadata": {},
   "source": [
    "# 一、用 MobileNet 提取的特征向量寻找最相似的物品"
   ]
  },
  {
   "cell_type": "code",
   "execution_count": 46,
   "metadata": {},
   "outputs": [],
   "source": [
    "img_path = '/home/wutenghu/git_wutenghu/keras-yolo3/gs_img/B43'"
   ]
  },
  {
   "cell_type": "code",
   "execution_count": 48,
   "metadata": {},
   "outputs": [],
   "source": [
    "similar_dict_dir = 'img_similarity_retrieval/mobilenet_crop'\n",
    "similar_dict_list = os.listdir(similar_dict_dir)\n",
    "\n",
    "done_dcd_set = {'B43130519', 'B43130701', 'B43130517', 'B43130301', 'B43130501', 'B43130509'}\n",
    "\n",
    "for filename in similar_dict_list:\n",
    "    new_dcd = filename.split('_')[0]\n",
    "    cate = filename.split('_')[1]\n",
    "    if new_dcd in done_dcd_set:\n",
    "        continue\n",
    "    \n",
    "    similar_dict_path = os.path.join(similar_dict_dir, filename)\n",
    "    \n",
    "    prd_id_similar = pickle.load(\n",
    "        open(similar_dict_path, 'rb'))\n",
    "    prd_id_list = prd_id_similar.keys()\n",
    "\n",
    "    if len(prd_id_list) >= 200:\n",
    "        prd_id_list = random.sample(list(prd_id_list), 200)\n",
    "    else:\n",
    "        pass\n",
    "\n",
    "    for prd_id in prd_id_list:\n",
    "        file_path = os.path.join(img_path, new_dcd, str(prd_id)+'.jpg')\n",
    "        # print(file_path)\n",
    "\n",
    "        try:\n",
    "            img = image.load_img(file_path)\n",
    "\n",
    "            fig = plt.figure(figsize=(20, 20))\n",
    "            ax = plt.subplot(4, 4, 2)\n",
    "            ax.imshow(img)\n",
    "            plt.title(\"detail product_\"+str(prd_id))\n",
    "\n",
    "            for idx in range(12):\n",
    "                ax = plt.subplot(4, 4, idx+5)\n",
    "                file_path = os.path.join(img_path, new_dcd, str(prd_id_similar[prd_id][-(idx+1)][0])+'.jpg')\n",
    "\n",
    "                img = image.load_img(file_path)\n",
    "                ax.imshow(img)\n",
    "                plt.title(str(prd_id_similar[prd_id][idx][0])+\"_\"+str(prd_id_similar[prd_id][-(idx+1)][1]))\n",
    "\n",
    "            if not os.path.exists('recommend_sample/similar_retrieval/crop/'+new_dcd+'/'+cate):\n",
    "                os.makedirs('recommend_sample/similar_retrieval/crop/'+new_dcd+'/'+cate)\n",
    "            plt.savefig('recommend_sample/similar_retrieval/crop/'+new_dcd+'/'+cate+'/'+str(prd_id)+'.jpg')\n",
    "            plt.close('all')\n",
    "        except Exception as e:\n",
    "            print(file_path)\n",
    "            pass"
   ]
  },
  {
   "cell_type": "code",
   "execution_count": null,
   "metadata": {},
   "outputs": [],
   "source": [
    ""
   ]
  }
 ],
 "metadata": {
  "kernelspec": {
   "display_name": "Python 3",
   "language": "python",
   "name": "python3"
  },
  "language_info": {
   "codemirror_mode": {
    "name": "ipython",
    "version": 3.0
   },
   "file_extension": ".py",
   "mimetype": "text/x-python",
   "name": "python",
   "nbconvert_exporter": "python",
   "pygments_lexer": "ipython3",
   "version": "3.5.2"
  }
 },
 "nbformat": 4,
 "nbformat_minor": 0
}